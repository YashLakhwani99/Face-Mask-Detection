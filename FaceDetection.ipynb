{
 "cells": [
  {
   "cell_type": "code",
   "execution_count": 1,
   "id": "5edbf332",
   "metadata": {},
   "outputs": [],
   "source": [
    "import tensorflow as tf\n",
    "import cv2\n",
    "import matplotlib.pyplot as plt"
   ]
  },
  {
   "cell_type": "code",
   "execution_count": 2,
   "id": "c94b0401",
   "metadata": {},
   "outputs": [],
   "source": [
    "model = tf.keras.models.load_model(\"FaceMaskDetector.h5\")"
   ]
  },
  {
   "cell_type": "code",
   "execution_count": 71,
   "id": "4c3c2079",
   "metadata": {},
   "outputs": [],
   "source": [
    "face_cap = cv2.CascadeClassifier(\"/Users/yashlakhwani/anaconda3/envs/tensorflow/lib/python3.11/site-packages/cv2/data/haarcascade_frontalface_default.xml\")\n",
    "video = cv2.VideoCapture(0)\n",
    "while True:\n",
    "    ret, frame = video.read()\n",
    "    col = cv2.cvtColor(frame, cv2.COLOR_BGR2GRAY)\n",
    "    image = cv2.resize(frame, (224, 224))\n",
    "    pred = model.predict(image.reshape(1, 224, 224, 3), verbose = 0)[0][0]\n",
    "    check = round(pred)\n",
    "    faces = face_cap.detectMultiScale(\n",
    "        col,\n",
    "        scaleFactor = 1.1,\n",
    "        minNeighbors = 5,\n",
    "        minSize = (30, 30),\n",
    "        flags = cv2.CASCADE_SCALE_IMAGE\n",
    "    )\n",
    "    for (x, y, w, h) in faces:\n",
    "        if check == 0:\n",
    "            cv2.rectangle(frame, (x, y), (x + w, y + h), (0, 255, 0), 2)\n",
    "            cv2.putText(frame, \"Mask Detected \" + \"{:.2f}\".format(1 - pred), (h + 10, y), cv2.FONT_HERSHEY_COMPLEX_SMALL, 2, (0, 255, 0), 5, cv2.LINE_AA)\n",
    "        else:\n",
    "            cv2.rectangle(frame, (x, y), (x + w, y + h), (0, 0, 255), 2)\n",
    "            cv2.putText(frame, \"Mask not Detected \" + \"{:.2f}\".format(pred), (h + 14, y - 4), cv2.FONT_HERSHEY_COMPLEX_SMALL, 2, (0, 0, 255), 5, cv2.LINE_AA)\n",
    "    cv2.imshow(\"Face Mask Detection\", frame)\n",
    "    if cv2.waitKey(2) == ord('q'):\n",
    "        break\n",
    "cv2.destroyAllWindows()\n",
    "video.release()"
   ]
  }
 ],
 "metadata": {
  "kernelspec": {
   "display_name": "Python 3 (ipykernel)",
   "language": "python",
   "name": "python3"
  },
  "language_info": {
   "codemirror_mode": {
    "name": "ipython",
    "version": 3
   },
   "file_extension": ".py",
   "mimetype": "text/x-python",
   "name": "python",
   "nbconvert_exporter": "python",
   "pygments_lexer": "ipython3",
   "version": "3.11.7"
  }
 },
 "nbformat": 4,
 "nbformat_minor": 5
}
